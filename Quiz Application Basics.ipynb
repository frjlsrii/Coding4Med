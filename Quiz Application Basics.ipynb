{
 "cells": [
  {
   "cell_type": "markdown",
   "id": "c133c297",
   "metadata": {},
   "source": [
    "Coding 4 Medicine: Building a Quiz!"
   ]
  },
  {
   "cell_type": "markdown",
   "id": "d2a2f50d",
   "metadata": {},
   "source": [
    "1. Building a simple quiz function"
   ]
  },
  {
   "cell_type": "code",
   "execution_count": 4,
   "id": "73b124b4",
   "metadata": {},
   "outputs": [
    {
     "name": "stdout",
     "output_type": "stream",
     "text": [
      "How many students does DTS have? 150\n",
      "Too bad! The answer is 160, not '150'!\n",
      "When was the DTS C4M chapter started? 30\n",
      "Too bad! The answer is 2022, not '30'!\n"
     ]
    }
   ],
   "source": [
    "answer = input(\"How many students does DTS have? \")\n",
    "if answer == \"160\":\n",
    "    print(\"Correct!\")\n",
    "else:\n",
    "    print(f\"Too bad! The answer is 160, not {answer!r}!\")\n",
    "# the f within the print statement denotes it as a formatted string, so that you may have Python evaluate certain functions\n",
    "# within the curly brackets. \n",
    "\n",
    "answer = input(\"When was the DTS C4M chapter started? \")\n",
    "if answer == \"2022\":\n",
    "    print(\"Correct!\")\n",
    "else:\n",
    "    print(f\"Too bad! The answer is 2022, not {answer!r}!\")"
   ]
  },
  {
   "cell_type": "markdown",
   "id": "2fd01c19",
   "metadata": {},
   "source": [
    "2. Creating a more efficient system"
   ]
  },
  {
   "cell_type": "code",
   "execution_count": null,
   "id": "a7ceb717",
   "metadata": {},
   "outputs": [
    {
     "name": "stdout",
     "output_type": "stream",
     "text": [
      "How many students does DTS have?? 160\n",
      "Correct!\n"
     ]
    }
   ],
   "source": [
    "QUESTIONS = [\n",
    "    (\"How many students does DTS have?\", \"160\"),\n",
    "    (\"When was the DTS C4M Chapter started?\", \"2022\")\n",
    "]\n",
    "for question, correct_answer in QUESTIONS:\n",
    "    answer = input(f\"{question}? \")\n",
    "    if answer == correct_answer:\n",
    "        print(\"Correct!\")\n",
    "    else: \n",
    "        print(f\"The answer is {correct_answer!r}, not {answer!r}\")"
   ]
  }
 ],
 "metadata": {
  "kernelspec": {
   "display_name": "Python 3 (ipykernel)",
   "language": "python",
   "name": "python3"
  },
  "language_info": {
   "codemirror_mode": {
    "name": "ipython",
    "version": 3
   },
   "file_extension": ".py",
   "mimetype": "text/x-python",
   "name": "python",
   "nbconvert_exporter": "python",
   "pygments_lexer": "ipython3",
   "version": "3.11.3"
  }
 },
 "nbformat": 4,
 "nbformat_minor": 5
}
